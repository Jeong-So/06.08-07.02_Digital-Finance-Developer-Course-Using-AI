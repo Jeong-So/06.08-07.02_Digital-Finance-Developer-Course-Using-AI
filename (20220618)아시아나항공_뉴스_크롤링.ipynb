{
  "nbformat": 4,
  "nbformat_minor": 0,
  "metadata": {
    "colab": {
      "name": "(20220618)아시아나항공 뉴스 크롤링.ipynb",
      "provenance": [],
      "collapsed_sections": [],
      "authorship_tag": "ABX9TyPjSMemZC2lWKCFoHnkRt2M",
      "include_colab_link": true
    },
    "kernelspec": {
      "name": "python3",
      "display_name": "Python 3"
    },
    "language_info": {
      "name": "python"
    }
  },
  "cells": [
    {
      "cell_type": "markdown",
      "metadata": {
        "id": "view-in-github",
        "colab_type": "text"
      },
      "source": [
        "<a href=\"https://colab.research.google.com/github/Jeong-So/Data-Crawling-project/blob/main/(20220618)%EC%95%84%EC%8B%9C%EC%95%84%EB%82%98%ED%95%AD%EA%B3%B5_%EB%89%B4%EC%8A%A4_%ED%81%AC%EB%A1%A4%EB%A7%81.ipynb\" target=\"_parent\"><img src=\"https://colab.research.google.com/assets/colab-badge.svg\" alt=\"Open In Colab\"/></a>"
      ]
    },
    {
      "cell_type": "markdown",
      "source": [
        "## 아시아나 항공 뉴스 데이터 크롤링"
      ],
      "metadata": {
        "id": "vbZ6_AZeRX8a"
      }
    },
    {
      "cell_type": "code",
      "execution_count": null,
      "metadata": {
        "id": "JNDhw47JRVl3"
      },
      "outputs": [],
      "source": [
        "# 입력 : url\n",
        "# 출력 : 제목, 원문, 매체, 날짜\n",
        "# 함수를 작성하세요.\n",
        "\n",
        "import requests\n",
        "import time\n",
        "from bs4 import BeautifulSoup\n",
        "\n",
        "\n",
        "URL = 'https://n.news.naver.com/mnews/article/011/0003717652?sid=101'\n",
        "headers = { 'user-agent': 'Mozilla/5.0 (Windows NT 10.0; Win64; x64) AppleWebKit/537.36 (KHTML, like Gecko) Chrome/102.0.5005.115 Safari/537.36'}\n",
        "response = requests.get(URL, headers = headers) \n",
        "soup = BeautifulSoup(response.text, 'html.parser')\n",
        "\n",
        "title = soup.select_one('h2.media_end_head_headline').text\n",
        "content = soup.select_one('div #dic_area').text.replace(\"\\n\",'')\n",
        "new_com = soup.select_one('img').attrs[\"title\"]\n",
        "date = soup.select_one('span.media_end_head_info_datestamp_time._ARTICLE_DATE_TIME').text\n",
        "\n"
      ]
    },
    {
      "cell_type": "code",
      "source": [
        "# 실습 1 완성\n",
        "\n",
        "# 입력 : url\n",
        "# 출력 : 제목, 원문, 매체, 날짜\n",
        "# 함수를 작성하세요.\n",
        "\n",
        "import requests\n",
        "import time\n",
        "from bs4 import BeautifulSoup\n",
        "\n",
        "\n",
        "def news_crawling(url, headers):\n",
        "  response = requests.get(url, headers = headers) \n",
        "  soup = BeautifulSoup(response.text, 'html.parser')\n",
        "\n",
        "  title = soup.select_one('h2.media_end_head_headline').text\n",
        "  content = soup.select_one('div #dic_area').text.replace(\"\\n\",'').replace('\\t','')\n",
        "  new_com = soup.select_one('img').attrs[\"title\"]\n",
        "  date = soup.select_one('span.media_end_head_info_datestamp_time._ARTICLE_DATE_TIME').text\n",
        "  print(title +\"\\n\" + content+\"\\n\" +new_com+\"\\n\" +date)\n",
        "\n",
        "  # return(title, new_com, date, content)\n",
        "\n",
        "\n",
        "url = 'https://n.news.naver.com/mnews/article/001/0011711502?sid=101'\n",
        "headers = { 'user-agent': 'Mozilla/5.0 (Windows NT 10.0; Win64; x64) AppleWebKit/537.36 (KHTML, like Gecko) Chrome/102.0.5005.115 Safari/537.36'}\n",
        "news_crawling(url, headers)\n"
      ],
      "metadata": {
        "colab": {
          "base_uri": "https://localhost:8080/"
        },
        "id": "2lWSYqg6VCY8",
        "outputId": "79b535df-fb70-49d9-876f-11295c896b7a"
      },
      "execution_count": null,
      "outputs": [
        {
          "output_type": "stream",
          "name": "stdout",
          "text": [
            "아시아나항공, 3천억원 규모 전환사채 발행\n",
            "(서울=연합뉴스) 장하나 기자 = 아시아나항공은 산업은행과 수출입은행을 대상으로 3천억원 규모의 무기명식 무보증 전환사채(CB)를 발행하기로 했다고 29일 공시했다.     표면이자율과 만기이자율은 7.20%다. 만기일은 2050년 6월 30일이다.     전환가액은 주당 5천원이다. 전환에 따라 발행될 주식 수는 6천만주로, 전체 주식 총수 대비 비율은 21.18%다.     회사 측은 \"발행금액 3천억원 중 2천500억원은 차입금 상환(1천500억원)과 운영자금(1천억원)으로 사용하고 500억원은 에어부산 영구전환사채 인수대금으로 사용할 예정\"이라고 말했다. 아시아나항공[촬영 안철수]    hanajjang@yna.co.kr▶코로나19 속보는 네이버 연합뉴스[구독 클릭]▶[팩트체크]'인국공 사태'로 취준생 피해?▶제보하기\n",
            "연합뉴스\n",
            "2020.06.29. 오후 6:09\n"
          ]
        }
      ]
    },
    {
      "cell_type": "code",
      "source": [
        "# 실습 1 모범답안\n",
        "\n",
        "import requests\n",
        "from bs4 import BeautifulSoup\n",
        "def parse_news(url) :\n",
        "  headers = {'User-Agent':'Mozilla/5.0 (Windows NT 10.0; Win64; x64) AppleWebKit/537.36/87.0.4280.88 Safari/537.36'}\n",
        "  res = requests.get(url, headers=headers)\n",
        "  bs = BeautifulSoup(res.content, 'html.parser')\n",
        "  title = bs.select_one('h2').text\n",
        "  media = bs.select_one('img.media_end_head_top_logo_img').attrs['title']\n",
        "  content = bs.select_one('#newsct_article').text.replace('\\n','').replace('\\t','')\n",
        "  date = bs.select_one('span._ARTICLE_DATE_TIME').text\n",
        "  return (title, media, date, content)\n",
        "parse_news(\"https://n.news.naver.com/mnews/article/056/0010812029?sid=101\")"
      ],
      "metadata": {
        "colab": {
          "base_uri": "https://localhost:8080/"
        },
        "id": "QCrGHy9Ka7GS",
        "outputId": "9015de01-3186-4453-9587-471f79d850ef"
      },
      "execution_count": null,
      "outputs": [
        {
          "output_type": "execute_result",
          "data": {
            "text/plain": [
              "('수습 부기장에 청소원까지…항공업계 감원 ‘칼바람’',\n",
              " 'KBS',\n",
              " '2020.03.31. 오후 2:33',\n",
              " ' 한 달 ‘셧다운’ 돌입한 이스타항공■ 이스타항공 \"수습 부기장 80여 명 계약 해지\"…대한항공 \"인턴 승무원도 무급휴직\" 코로나19 확산으로 항공업계가 \\'셧다운\\' 위기에 처한 가운데 임금 반납과 유·무급 휴직에 이어 이번엔 \\'감원\\' 칼바람이 불고 있습니다.통상 항공업계는 직원을 신규 채용한 뒤 짧게는 8개월에서 길게는 2년까지 인턴 등 비정규직 기간을 거친 뒤 정규직으로 전환하는 채용 시스템을 갖추고 있는데 코로나19 여파로 이들이 가장 먼저 감원 대상에 오르고 있는 겁니다.이스타항공은 최근 1~2년 차 수습 부기장 80명에게 \\'다음 달 1일 자로 계약을 해지한다\\'는 내용의 메일을 보내면서 \\'추후 회사 사정이 나아지면 이들을 우선 고용하겠다\\'는 안내서도 함께 보냈다고 밝혔습니다. 이스타항공 관계자는 \"수습 부기장은 통상 큰 결격 사유가 없으면 수습 기간 비행 훈련을 마치고 정규직으로 전환되지만, 이번에는 회사의 경영 사정 악화로 부득이하게 계약이 해지됐다\"다고 계약 해지 이유를 설명했습니다.현재 이스타항공은 한 달간 전 노선의 운항을 중단하는 \\'셧다운\\'에 들어간 상태입니다. 이미 유동성 부족으로 임직원의 2월 급여를 40%만 지급한 데 이어 3월에는 아예 급여 지급 자체를 하지 못했습니다.이런 가운데 국내 항공업계 1위인 대한항공은 이달 초 2년 차 이상의 객실승무원을 대상으로 단기 희망 휴직을 받은 데 이어 이달 중순에는 단기 휴직 신청 대상 범위를 인턴 승무원을 포함한 모든 승무원으로 확대하기도 했습니다.대한항공 측은 \"연차 일수가 적은 2년 차 이하 직원들이 휴직 문의를 해 추가 신청을 받았다\"고 설명했지만, 업계에서는 코로나19 확산에 따른 경영 악화로 휴직 대상 범위를 확대했다는 시각이 우세합니다.민주노총 공공운수노조 기자회견■ 비행기 청소 노동자 무더기 해고…\"고용 칼바람 시작\"대한항공과 아시아나항공 등 대형 항공사마저 코로나19 위기에 임원 급여 반납 등 자구책을 마련하는 가운데 지상조업사와 하청업체도 큰 타격을 받고 있습니다.아시아나항공의 수하물과 기내 청소를 맡는 \\'케이오\\'는 현재 노사협의와 달리 희망퇴직 신청을 받고 있고, 한진그룹 계열사인 한국공항의 하청업체로 기내 청소를 맡은 \\'이케이맨파워\\'는 최근 직원 400명 중 50여 명을 해고했습니다.이에 민주노총 공공운수노조는 오늘(31일) 오전 종로구 정부서울청사 앞에서 기자회견을 열고 인천공항과 영종도를 특별고용위기 지역으로 지정해 한시적 해고 금지 조처를 내려달라고 촉구했습니다.이들은 \"코로나19 여파가 언제까지 갈지 알 길이 없자 희망퇴직과 권고사직, 해고가 업종을 가리지 않고 속출하고 있다\"며 \"인천공항 전체 사업체와 노동자, 공항 인근의 연관 산업까지 포괄하는 지원 대책이 필요하다\"고 주장했습니다.■ 대규모 실직 우려 커지고 있지만…항공업 지원 절차는 속도 못 내지금까지 나온 항공업 지원 대책은 어떤 것들이 있을까요. 코로나19 확산세가 심상치 않던 지난달 17일 홍남기 부총리 겸 기획재정부 장관은 코로나19 대응 경제관계장관회의를 열고 \"저비용항공사에 최대 3천억 원 범위 안에서 긴급 융자 프로그램을 마련하겠다\"고 밝힌 바 있습니다.하지만 상황이 악화하자 이달 18일에는 해외 입국제한과 운항 중단 등으로 사용하지 못한 운수권과 슬롯 회수를 전면 유예하고, 공항 사용료 감면도 확대해 6월부터 시행하려던 착륙료 감면을 즉시 시행하고, 감면 폭도 인천국제공항은 20%, 한국공항공사는 10%로 확대하는 등의 대책을 내놨습니다.하지만 항공업계는 정부에 보다 전향적인 지원을 촉구하고 있습니다. 세계 각국이 국가 기간산업인 항공산업에 각종 대책을 쏟아내고 있지만, 한국은 지금까지 몇 가지 단편적인 대책을 내놓는 데 그치고 있다는 겁니다.실제로 미국 상원은 현지시각 지난 25일과  코로나19로 붕괴 위기에 빠진 자국의 항공산업을 지원하기 위해 \\'긴급 지원 법안\\'을 가결했습니다. 27일 하원도 가결했습니다. 이에 따라 여객 항공사에는 보조금 250억 불(30조 7,000억 원)이, 화물 항공사에는 보조금 40억 불(4조 9,000억 원)이, 항공산업과 연계된 협력업체들에도 30억 불(3조 7,000억 원)이 지급됩니다.독일은 자국 항공사 대상으로 무한대 금융 지원과 무이자 대출기한 연장, 세금 유예, 공항이용료 면제 등 혜택을 지원합니다. 프랑스도 자국 항공사에 대한 무조건적 지원을 결정했습니다.항공업계 관계자는 \"항공업은 부채 비율이 높은 데다, 대부분 자산이 빌린 항공기뿐이라 담보가 부족하다\"며 \"지금 나온 대책들로는 항공사들의 생존에는 영향을 주기 어려운 수준\"이라고 전했습니다.지난 16일 정부는 항공업 등 4개 업종을 \\'특별고용지원업종\\'으로 지정해, 근로자의 휴업 또는 휴직을 시행하는 기업에 최대 6달 동안 임금의 90%까지 지원하도록 했지만, 이마저도 효과가 미미합니다.공공운수노조는 \"항공업이 특별고용지원업종으로 지정되면서 고용유지지원금 90% 지원 대상에 들어가게 되었지만, 급여를 선지급하고 추후 신청하는 방식이다 보니 현금 유동성이 없으면 신청 자체가 어렵다\"면서 \"지원금을 먼저 지급하는 등 제도적 허점을 보완해야 한다\"고 주장했습니다.또한 \"대부분의 하청업체들은 사실상 항공운송사업을 영위하고 있음에도 불구하고, 사업코드가 한국표준산업 분류상 항공 여객 운송업에 해당하지 않아 특별고용지원업종에서 제외되는 업종도 다수\"라고 지적하며 추가 대책 마련을 촉구했습니다.김수영 기자 (swimming@kbs.co.kr)▶ ‘코로나19 팩트체크’ 제대로 알아야 이긴다▶ 우리 동네 무슨 일이? KBS지역뉴스▶ 더 빠르고 정확한 소식을 원하시면 KBS뉴스 구독!')"
            ]
          },
          "metadata": {},
          "execution_count": 63
        }
      ]
    },
    {
      "cell_type": "code",
      "source": [
        "# 실습 2 (완성)\n",
        "\n",
        "# 검색결과 1페이지에 있는 목록을 기준으로\n",
        "# (제목, 매체, 날짜, 원문) 리스트를 만드시오.\n",
        "\n",
        "import requests\n",
        "import time\n",
        "from bs4 import BeautifulSoup\n",
        "\n",
        "\n",
        "def news_crawling(url, headers):\n",
        "  response = requests.get(url, headers = headers) \n",
        "  soup = BeautifulSoup(response.text, 'html.parser')\n",
        "\n",
        "  lst = []\n",
        "  lst.append(soup.select_one('h2.media_end_head_headline').text)  \n",
        "  lst.append(soup.select_one('img').attrs[\"title\"])\n",
        "  lst.append(soup.select_one('span.media_end_head_info_datestamp_time._ARTICLE_DATE_TIME').text)\n",
        "  lst.append(soup.select_one('div #dic_area').text.replace(\"\\n\",'').replace('\\t',''))\n",
        "  # print(title +\"\\n\" + content+\"\\n\" +new_com+\"\\n\" +date)\n",
        "  \n",
        "  return(lst)\n",
        "\n",
        "\n",
        "url = 'https://search.naver.com/search.naver?where=news&query=%EC%95%84%EC%8B%9C%EC%95%84%EB%82%98%ED%95%AD%EA%B3%B5&sm=tab_opt&sort=0&photo=0&field=0&pd=3&ds=2020.01.01&de=2020.06.30&docid=&related=0&mynews=0&office_type=0&office_section_code=0&news_office_checked=&nso=so%3Ar%2Cp%3Afrom20200101to20200630&is_sug_officeid=0'\n",
        "headers = { 'user-agent': 'Mozilla/5.0 (Windows NT 10.0; Win64; x64) AppleWebKit/537.36 (KHTML, like Gecko) Chrome/102.0.5005.115 Safari/537.36'}\n",
        "response = requests.get(url, headers = headers) \n",
        "soup = BeautifulSoup(response.text, 'html.parser')\n",
        "\n",
        "\n",
        "news_lst = []\n",
        "\n",
        "# type 1\n",
        "for result in soup.select('div.news_area'):\n",
        "  try:\n",
        "    url_child = result.select(\"div.info_group a\")[1].attrs['href']\n",
        "    # print(url_child)\n",
        "    # news_crawling(url, headers)\n",
        "    news_lst.append(news_crawling(url_child, headers))\n",
        "  except:\n",
        "    pass\n",
        "\n",
        "for news in news_lst:\n",
        "  print(news)\n",
        "\n",
        "\n",
        "# type 2\n",
        "# for result in soup.select('div.news_area'):\n",
        "#   if resultresult.select(\"div.info_group a\")[1].attrs['href'].startswith[\"https://n.news.naver.com\"]:\n",
        "#     news_lst.append(news_crawling(url_child, headers))\n",
        "\n"
      ],
      "metadata": {
        "colab": {
          "base_uri": "https://localhost:8080/"
        },
        "id": "H9NYt7bGbEbt",
        "outputId": "4493c266-680e-421f-845a-77c378271528"
      },
      "execution_count": null,
      "outputs": [
        {
          "output_type": "stream",
          "name": "stdout",
          "text": [
            "['벼랑 끝 아시아나항공…끝내 침묵한 정몽규 회장', '이데일리', '2020.06.30. 오후 4:29', '[이데일리 박종오 기자] 아시아나항공(020560)을 품에 안을 것인가 아니면 인수를 없던 일로 할 것인가. 정몽규 회장은 끝내 입을 열지 않았다. 아직 장고(長考) 중이라는 의미다. 사진=연합뉴스정몽규(사진) HDC현대산업개발(294870) 회장은 30일 오전 서울 시내 모처에서 기자와 만났다. 정 회장은 이 자리에서 “아시아나항공 인수 의사에 변화가 없느냐”는 기자의 질문에 뚜렷한 답을 하지 않았다. 얼굴 절반을 가린 흰 마스크 뒤로 당혹스러워하는 표정이 엿보였다. 정 회장은 “언론에 다 나와 있는 내용대로”라고 했다. 현대산업개발은 지난해 말 미래에셋대우(006800)와 함께 아시아나항공을 2조5000억원에 사들이기로 했다. 그리고 지난 9일 KDB산업은행 등 아시아나항공 채권단에 “인수 조건을 원점에서 재검토하자”고 했다. 지금까지 지불한 돈은 계약금 2500억원 뿐이다. 이달 27일로 예정됐던 인수 계약 종료일은 이미 지났다. 이게 언론에 나온 내용의 전부다. 정 회장은 “아시아나항공 인수의 꿈을 내려놓은 것인가”라는 정반대 물음에도 대답하지 않았다. 대신 “언론에 나온 것과 회사가 배포한 자료를 봐달라”고 했다. 정 회장은 계약 종료일을 이틀 앞둔 지난 25일 이동걸 산업은행 회장과 만났다. 현대산업개발의 아시아나항공 인수 포기설이 가라앉고 인수의 불씨가 다시 살아났다는 평가가 나왔다. 그러나 정 회장은 이 회장과의 회동에서 어떤 얘기가 오갔는지 말을 아꼈다. 아시아나항공은 신종 코로나 바이러스 감염증(코로나19)에 단단히 앓고 있다. 올해 1분기(1~3월) 영업 적자 2920억원을 냈다. 비행기가 멈춰서 언제 회사가 흑자로 돌아설지 누구도 예측할 수 없다.  1년 안에 만기가 도래하는 부채는 4조8952억원으로 현금화할 수 있는 자산(1조5085억원)의 3배가 넘는다. 회사의 부채를 자기자본으로 나눈 부채비율은 지난 3월 말 기준 6280%에 이른다. 정 회장은 아시아나항공에 2조원 이상을 투자해 부채 비율을 300% 아래로 낮출 생각이었다. 목표와 너무 멀어졌다. 돈을 얼마나 더 넣어야 할지 가늠할 수 없다. 정부는 정 회장의 입만 바라보고 있다. 결단을 기다린다. 금융 당국 관계자는 “이번 기회를 놓치면 국적 항공사 매물이 다시 시장에 나오는 일은 없을 것”이라고 말했다. 경제 부처 고위 관계자는 “현대산업개발이 인수하지 않으면 아시아나항공을 정부가 안을 수밖에 없다”고 토로했다. 정 회장은 아시아나항공 인수 여부에 끝까지 별다른 언급을 하지 않고 자리를 떠났다. 고민의 시간이 길어지고 있다. 사진=연합뉴스박종오 (pjo22@edaily.co.kr)네이버에서 ‘이데일리’ 구독하기▶청춘뉘우스~ 스냅타임▶＜ⓒ종합 경제정보 미디어 이데일리 - 무단전재 & 재배포 금지＞']\n",
            "['아시아나항공, 3천억원 규모 전환사채 발행', '연합뉴스', '2020.06.29. 오후 6:09', '(서울=연합뉴스) 장하나 기자 = 아시아나항공은 산업은행과 수출입은행을 대상으로 3천억원 규모의 무기명식 무보증 전환사채(CB)를 발행하기로 했다고 29일 공시했다.     표면이자율과 만기이자율은 7.20%다. 만기일은 2050년 6월 30일이다.     전환가액은 주당 5천원이다. 전환에 따라 발행될 주식 수는 6천만주로, 전체 주식 총수 대비 비율은 21.18%다.     회사 측은 \"발행금액 3천억원 중 2천500억원은 차입금 상환(1천500억원)과 운영자금(1천억원)으로 사용하고 500억원은 에어부산 영구전환사채 인수대금으로 사용할 예정\"이라고 말했다. 아시아나항공[촬영 안철수]    hanajjang@yna.co.kr▶코로나19 속보는 네이버 연합뉴스[구독 클릭]▶[팩트체크]\\'인국공 사태\\'로 취준생 피해?▶제보하기']\n",
            "['[시그널] 아시아나 계열 금호티앤아이, 현대그룹에 500억 갚는다', '서울경제', '2020.06.30. 오후 4:24', \"IDT·에어포트·세이버 등에서 대여금호티앤아이 RCPC·CB 500억 상환현대그룹 PEF 투자금 3년 안돼 회수[서울경제] 아시아나항공(020560)의 계열회사인 금호티앤아이가 빚 500억원 상환에 나섰다. 3년 전 금호티앤아이의 전환사채(CB)를 인수하는 방식으로 금호그룹에 투자한 현대그룹은 조기에 투자금을 회수하게 됐다. 30일 금융투자 업계에 따르면 금호티앤아이는 지난 2017년 현대투자파트너스가 인수한 CB와 이를 일부 전환한 상환전환우선주(RCPS) 500억원의 상환 절차에 착수했다. 이와 관련해 금호산업(002990)과 아시아나IDT(267850)·아시아나에어포트·아시아나세이버 등은 500억원을 금호티앤아이에 대여한다고 최근 공시한 바 있다. 이번 상환으로 현대투자파트너스는 2년9개월 만에 투자금 500억원을 회수할 수 있게 됐다. 현대투자파트너스는 현대그룹이 운용하는 사모펀드(PEF)로 현정은 회장이 사내이사로 재직하고 있다. 이 회사는 2017년 케이에이인베스트먼트(현 금호티앤아이)가 발행한 3년 만기의 CB를 인수하는 방식으로 금호그룹에 815억원을 투자한 바 있다. 이 중 215억원가량은 지난해 8월 RCPS로 전환해 현재 금호티앤아이 지분 6.7%를 보유한 대주주다. 문제는 CB 상환에 나선 곳들이 산은 지원을 받은 아시아나항공의 계열회사라는 점이다. 이 계열사들은 신종 코로나바이러스 감염증(코로나19) 확산 이후 무급휴직 등으로 인력을 반만 운영하는 비상경영체제를 가동하고 있다. 더욱이 금호티앤아이는 박삼구 회장이 금호고속을 지주회사로 세우는 등 그룹을 재건할 당시 외부 투자금을 금호고속으로 몰아주는 창구 역할을 한 회사다. 2017년 CB 발행 이후 금호속리산고속 등을 인수하는 방법으로 금호고속으로 흘러들어간 돈만 460억원에 달한다. 금호아시아나그룹 측은 자금을 대여한 계열회사들이 산은의 지원 대상이 아닌 만큼 큰 문제는 없다는 입장이다. 하지만 이 같은 논란을 의식해 당초 산은 측도 계열사를 동원해 CB를 상환하는 것에 반대했던 것으로 알려졌다. 최근 금호리조트 등이 경기도 용인에 위치한 골프장 아시아나CC를 유동화하는 방식으로 자금을 마련하기 위해 사모펀드 등과 물밑접촉을 했던 것도 이 때문이다. 하지만 돌연 산은이 입장을 바꿨고 결국 계열회사의 자금을 끌어모아 빚 상환에 나선 것이다. 현대투자파트너스는 CB 인수 당시 금호리조트를 비롯해 금호산업 및 아시아나IDT 등이 보유한 금호티앤아이의 지분 모두를 담보로 잡았다. 빚을 갚지 못할 경우 금호티앤아이와 금호리조트가 통째로 현대그룹에 넘어가는 셈이 된다. 또 아시아나항공 매각이 진행되는 상황에서 채무불이행이 발생할 경우 HDC현대산업개발(294870)이 계약을 파기할 수 있는 명분을 주게 되는 만큼 상환 요구에 응한 것으로 풀이된다. /김상훈기자 ksh25th@sedaily.com[서울경제 바로가기]▶ 네이버 채널에서 '서울경제' 구독해주세요!▶️ [서울포럼 2020 LIVE] 과학기술 초격차가 답이다저작권자 ⓒ 서울경제, 무단 전재 및 재배포 금지\"]\n",
            "['아시아나 항공기 잃을라…채권단, 이달중 영구채 지원', '머니투데이', '2020.06.29. 오전 4:31', \"[머니투데이 이학렬 기자] [1.7조원 중 일부인 5000억원 안팎…완전자본잠식땐 항공기리스 등에서 조기회수 트리거 발동] 아시아나항공이 15일 오전 서울 강서구 오쇠동 본사에서 임시 주주총회를 열어 자본확충을 위한 발행할 주식의 총수와 전환사채 한도를 늘릴 것을 의결했다.  / 사진=이기범 기자 leekb@채권단의 아시아나항공 영구채 추가 매입이 임박했다. 완전자본잠식에 빠져 아시아나가 리스한 항공기를 잃지 않도록 하기 위해서다. 규모는 5000억원 안팎으로 추정된다.28일 금융권에 따르면 KDB산업은행과 한국수출입은행 등 채권단은 이달 중으로 아시아나 영구채를 더 산다. 채권단은 지난해 아시아나 영구채 5000억원을 사들였다. 영구채 지원을 위한 준비도 마쳤다. 아시아나는 지난 15일 임시 주주총회를 열고 발행할 수 있는 전환사채 총액을 7000억원에서 1조6000억원으로 확대하는 안건을 통과시켰다. 채권단 내부 절차도 끝냈다. 채권단은 올해 아시아나에 1조7000억원의 한도여신을 내 주면서 이중 일부를 영구채 지원으로 전용하기로 했다. 이렇게 하는 것은 아시아나의 완전자본잠식을 우려해서다. 1분기말 아시아나의 자본잠식률은 81.2%에 달하고 부채비율은 6279.8%로 치솟았다. 완전자본잠식이 되면 항공기리스, ABS(유동화증권), 회사채 등에서 조기회수 트리거가 발동된다. 아시아나의 유동성 위기가 심각해질 수 있는 것이다.산은은 지난 17일 영구채 지원을 위한 정관변경과 임시주총 개최 관련해 “계속기업 유지를 위한 채권단의 필수조치”라고 설명했다.다만 채권단은 HDC현대산업개발이 채권단의 영구채 인수를 탐탁치 않게 보고 있는 만큼 신중하게 접근했다. HDC현산은 지난 9일 영구채의 주식으로의 전환 조건 등의 중요한 자료를 받지 못했다고 주장하며 채권단에 HDC현산측의 경영권 지분 변동에 대한 대책을 마련해달라고 요구했다. 채권단이 영구채를 주식으로 전환하면 HDC현산의 아시아나 지분율이 떨어지는 것에 대한 이의제기였다. 이 때문에 채권단은 영구채 지원 규모를 최소화할 수 밖에 없다. 안전하게 완전자본잠식을 해소하는 수준에서 영구채를 매입하는 또 다른 이유는 채권단 입장에서도 부담이 크기 때문이다. 영구채의 위험가중치는 주식과 같다. 같은 돈을 채권이 아닌 영구채로 지원하면 산은과 수은의 위험가중자산이 증가해 BIS(국제결제은행)비율이 떨어진다. 산은의 1분기말 BIS비율은 국내 은행 중 케이뱅크를 빼면 가장 낮다. 채권단 관계자는 “사모로 영구채를 지원하는 것이기 때문에 시간이 오래 걸리진 않는다”며 “6월말이 되기 전에 아시아나 영구채 지원을 마무리할 것”이라고 말했다. 이학렬 기자 tootsie@▶줄리아 투자노트▶조 변호사의 가정상담소 ▶머니투데이 구독하기 <저작권자 ⓒ '돈이 보이는 리얼타임 뉴스' 머니투데이, 무단전재 및 재배포 금지>\"]\n",
            "['안갯속 항공사 M&A…돌파구는 어디에?', 'KBS', '2020.06.29. 오후 6:13', ' [앵커] 항공업계의 인수 합병 논의가 지지부진한 상황에서 이스타항공이 제주항공 측의 결단을 거듭 촉구했습니다. 현대산업개발의 아시아나 인수도 단시간 안에 결정되기 어려울 정도로 교착 상태에 빠져 있습니다. 황정호 기자가 취재했습니다. [리포트] 제주항공으로의 인수합병이 어려움을 겪자 이스타항공이 기자회견을 자청했습니다. 대주주인 이상직 의원은 가족이 이스타홀딩스를 통해 소유한 이스타항공의 지분을 내놓겠다며 제주항공의 빠른 결단을 촉구했습니다. [최종구/이스타항공 대표  : \"어려움의 일차적 책임은 저희들에게  있지만 제주항공 역시 자유롭지  않을 것이다.\"] 제주항공은 관련 내용을 확인부터 하겠다며 신중한 입장을 보였습니다. 하지만 이상직 의원 측이 내놓은 주식에 대한 구체적인 활용방안을 밝히지 않은 데다, 임금을 못 받고 있는 직원들의 입장도 찬반으로 갈리면서 인수합병 작업이 급물살을 타기는 쉽지 않아 보입니다. [박이삼/이스타항공 조종사노동조합 위원장 : \"주식을 내려놓기 전에 체불임금에 대한  책임소재를 분명히 밝혔어야죠.  결국, 이 모든 딜이 끝나도 노동자들의  피해는 고스란히 남는다는 거예요.\"] 아시아나항공 매각 작업도 안갯속이긴 마찬가지입니다. 지난주 정몽규 현대산업개발 회장과 이동걸 산업은행 회장이 직접 만났지만 인수에 대한 기본적인 입장만 확인했을 뿐 구체적인 돌파구는 나오지 않았습니다. 현산 관계자는 아시아나의 부채가 계속 늘고 있고 재무제표의 신뢰성 문제도 있기 때문에 다시 실사가 필요하다고 밝혔습니다. 단시일 안에 해결된 문제가 아님을 시사한 것입니다. 결국 더 좋은 조건으로  인수 계약을 바꾸려는 시도가 계속되면서 상반기에 끝내려던 항공사 인수합병은 지지부진한 상태로 하반기로 넘어갔습니다. KBS 뉴스 황정호입니다.황정호 기자 (yellowcard@kbs.co.kr)▶ ‘코로나19 팩트체크’ 제대로 알아야 이긴다▶ 우리 동네 무슨 일이? KBS지역뉴스▶ 더 빠르고 정확한 소식을 원하시면 KBS뉴스 구독!']\n",
            "['이동걸·정몽규 전격 회동…아시아나항공 인수 새국면', '아시아경제', '2020.06.26. 오후 7:36', '[아시아경제 조강욱 기자] 이동걸 KDB산업은행 회장과 정몽규 HDC현대산업개발 회장이 젼격 회동해 아시아나항공 인수 문제를 논의했다.26일 금융권에 따르면 이 회장과 정 회장은 전날 오후 서울 시내 모처에서 만나 1시간가량 만나 얘기를 나눈 것으로 확인됐다.이 회장은 이 자리에서 \"HDC현산 측이 결정하면 (산은이) 지원할 수 있는 모든 부분을 지원하겠다\"고 말한 것으로 전해졌다.이날 회동은 이 회장의 \\'대면 협상\\' 요구에 정 회장이 응한 모양새다.앞서 이 회장은 지난 17일 기자 간담회에서 \"서면 협의를 얘기했는데 60년대 연애도 아니고 무슨 편지를 하느냐\"며 협상 테이블로 직접 나와 적극적으로 협상에 임해달라고 현산에 촉구한 바 있다.시장에서는 딜 클로징(종료) 시점(6월 27일)을 이틀 앞둔 시점에서 이뤄져 아시아나항공 인수 협상이 새로운 국면으로 접어든 것 아니냐는 관측이 나온다.산은 관계자는 \"두 회장이 전날 오후 직접 만남을 가졌다\"면서 \"두 회장의 회동에 배석자가 없어 어떤 대화가 오갔는지는 알 수 없다\"고 말했다.조강욱 기자 jomarok@asiae.co.kr▶ 2020년 하반기, 재물운·연애운·건강운 체크!▶ 네이버에서 아시아경제 뉴스를 받아보세요 ▶ 놀 준비 되었다면 드루와!  드링킷!<ⓒ경제를 보는 눈, 세계를 보는 창 아시아경제 무단전재 배포금지>']\n"
          ]
        }
      ]
    },
    {
      "cell_type": "code",
      "source": [
        "# 실습 3\n",
        "\n",
        "# 입력 : 키워드, 조회시작일자, 조회종료일자\n",
        "# 출력 : 뉴스 목록\n",
        "# *) 페이지 이동 처리\n",
        "# *) 마지막 페이지 인식하여 크롤링 종료\n",
        "\n",
        "import requests\n",
        "import time\n",
        "from bs4 import BeautifulSoup\n",
        "\n",
        "\n",
        "def news_crawling(url, headers):\n",
        "  response = requests.get(url, headers = headers) \n",
        "  soup = BeautifulSoup(response.text, 'html.parser')\n",
        "\n",
        "  lst = []\n",
        "  lst.append(soup.select_one('h2.media_end_head_headline').text)  \n",
        "  lst.append(soup.select_one('img').attrs[\"title\"])\n",
        "  lst.append(soup.select_one('span.media_end_head_info_datestamp_time._ARTICLE_DATE_TIME').text)\n",
        "  lst.append(soup.select_one('div #dic_area').text.replace(\"\\n\",'').replace('\\t',''))\n",
        "  # print(title +\"\\n\" + content+\"\\n\" +new_com+\"\\n\" +date)\n",
        "  \n",
        "  return(lst)\n",
        "\n",
        "name = '아시아나항공'\n",
        "start_date = '2020.01.01'\n",
        "end_date = '2020.01.01'\n",
        "start_date2 = start_date.replace('.','')\n",
        "end_date2 = end_date.replace('.','')\n",
        "page = 0\n",
        "\n",
        "url = f'https://search.naver.com/search.naver?where=news&sm=tab_pge&query={name}&sort=0&photo=0&field=0&pd=3&ds={start_date}&de={end_date}&cluster_rank=24&mynews=0&office_type=0&office_section_code=0&news_office_checked=&nso=so:r,p:from{start_date2}to{end_date2},a:all&start=1'\n",
        "\n",
        "while 1: \n",
        "  headers = { 'user-agent': 'Mozilla/5.0 (Windows NT 10.0; Win64; x64) AppleWebKit/537.36 (KHTML, like Gecko) Chrome/102.0.5005.115 Safari/537.36'}\n",
        "  response = requests.get(url, headers = headers) \n",
        "  soup = BeautifulSoup(response.text, 'html.parser')\n",
        "\n",
        " \n",
        "  if((page+1) != int(soup.select('div.sc_page_inner a.btn')[4].text)):\n",
        "    break\n",
        "  \n",
        "  page += 1\n",
        "\n",
        "  news_lst = []\n",
        "\n",
        "    # type 1\n",
        "  for result in soup.select('div.news_area'):\n",
        "    try:\n",
        "      url_child = result.select(\"div.info_group a\")[1].attrs['href']\n",
        "      # print(url_child)\n",
        "      # news_crawling(url, headers)\n",
        "      news_lst.append(news_crawling(url_child, headers))\n",
        "    except:\n",
        "      pass\n",
        "\n",
        "  for news in news_lst:\n",
        "    print(news)\n",
        "\n",
        "  url = f'https://search.naver.com/search.naver?where=news&sm=tab_pge&query={name}&sort=0&photo=0&field=0&pd=3&ds={start_date}&de={end_date}&cluster_rank=24&mynews=0&office_type=0&office_section_code=0&news_office_checked=&nso=so:r,p:from{start_date2}to{end_date2},a:all&start=' + str(page) +'1'\n"
      ],
      "metadata": {
        "id": "JltM1FqKhUp2"
      },
      "execution_count": null,
      "outputs": []
    },
    {
      "cell_type": "code",
      "source": [
        "# 실습 3 모범답안\n",
        "\n",
        "# 입력 : 키워드, 조회시작일자, 조회종료일자\n",
        "# 출력 : 뉴스 목록\n",
        "# *) 페이지 이동 처리\n",
        "# *) 마지막 페이지 인식하여 크롤링 종료\n",
        "\n",
        "import requests\n",
        "from bs4 import BeautifulSoup\n",
        "import pandas as pd\n",
        "\n",
        "keyword = \"아시아나 항공\"\n",
        "startdate = '2020.01.01'\n",
        "enddate = '2020.01.01'\n",
        "start = 1\n",
        "url_format = \"https://search.naver.com/search.naver?where=news&sm=tab_pge&query={}&sort=0&photo=0&field=0&pd=3&ds={}&de={}&cluster_rank=53&mynews=0&office_type=0&office_section_code=0&news_office_checked=&nso=so:r,p:from{}to{},a:all&start={}\"\n",
        "ret = []\n",
        "last_link = ''\n",
        "while True :\n",
        "  url = url_format.format(keyword, startdate, enddate, startdate.replace('.',''), enddate.replace('.',''), start )\n",
        "  headers = {'User-Agent':'Mozilla/5.0 (Windows NT 10.0; Win64; x64) AppleWebKit/537.36/87.0.4280.88 Safari/537.36'}\n",
        "  res = requests.get(url, headers=headers)\n",
        "  bs = BeautifulSoup(res.content, 'html.parser')\n",
        "  if last_link == bs.select('.news_info .info_group a')[-1]['href'] :\n",
        "    break\n",
        "  for a_tag in bs.select('.news_info .info_group a') :\n",
        "    if a_tag['href'].startswith(\"https://n.news.naver.com\") :\n",
        "      ret.append(parse_news(a_tag['href']))\n",
        "  start += 10\n",
        "  last_link = bs.select('.news_info .info_group a')[-1]['href']\n",
        "df = pd.DataFrame(ret, columns=('title', 'media', 'date', 'url', 'content'))\n",
        "df"
      ],
      "metadata": {
        "colab": {
          "base_uri": "https://localhost:8080/",
          "height": 455
        },
        "id": "xlZqravxxTJW",
        "outputId": "b70084a6-168f-4b1f-924d-0ee80b04bfbe"
      },
      "execution_count": null,
      "outputs": [
        {
          "output_type": "error",
          "ename": "ValueError",
          "evalue": "ignored",
          "traceback": [
            "\u001b[0;31m---------------------------------------------------------------------------\u001b[0m",
            "\u001b[0;31mAssertionError\u001b[0m                            Traceback (most recent call last)",
            "\u001b[0;32m/usr/local/lib/python3.7/dist-packages/pandas/core/internals/construction.py\u001b[0m in \u001b[0;36m_finalize_columns_and_data\u001b[0;34m(content, columns, dtype)\u001b[0m\n\u001b[1;32m    905\u001b[0m     \u001b[0;32mtry\u001b[0m\u001b[0;34m:\u001b[0m\u001b[0;34m\u001b[0m\u001b[0;34m\u001b[0m\u001b[0m\n\u001b[0;32m--> 906\u001b[0;31m         \u001b[0mcolumns\u001b[0m \u001b[0;34m=\u001b[0m \u001b[0m_validate_or_indexify_columns\u001b[0m\u001b[0;34m(\u001b[0m\u001b[0mcontents\u001b[0m\u001b[0;34m,\u001b[0m \u001b[0mcolumns\u001b[0m\u001b[0;34m)\u001b[0m\u001b[0;34m\u001b[0m\u001b[0;34m\u001b[0m\u001b[0m\n\u001b[0m\u001b[1;32m    907\u001b[0m     \u001b[0;32mexcept\u001b[0m \u001b[0mAssertionError\u001b[0m \u001b[0;32mas\u001b[0m \u001b[0merr\u001b[0m\u001b[0;34m:\u001b[0m\u001b[0;34m\u001b[0m\u001b[0;34m\u001b[0m\u001b[0m\n",
            "\u001b[0;32m/usr/local/lib/python3.7/dist-packages/pandas/core/internals/construction.py\u001b[0m in \u001b[0;36m_validate_or_indexify_columns\u001b[0;34m(content, columns)\u001b[0m\n\u001b[1;32m    954\u001b[0m             raise AssertionError(\n\u001b[0;32m--> 955\u001b[0;31m                 \u001b[0;34mf\"{len(columns)} columns passed, passed data had \"\u001b[0m\u001b[0;34m\u001b[0m\u001b[0;34m\u001b[0m\u001b[0m\n\u001b[0m\u001b[1;32m    956\u001b[0m                 \u001b[0;34mf\"{len(content)} columns\"\u001b[0m\u001b[0;34m\u001b[0m\u001b[0;34m\u001b[0m\u001b[0m\n",
            "\u001b[0;31mAssertionError\u001b[0m: 5 columns passed, passed data had 4 columns",
            "\nThe above exception was the direct cause of the following exception:\n",
            "\u001b[0;31mValueError\u001b[0m                                Traceback (most recent call last)",
            "\u001b[0;32m<ipython-input-64-26fde620066e>\u001b[0m in \u001b[0;36m<module>\u001b[0;34m()\u001b[0m\n\u001b[1;32m     28\u001b[0m   \u001b[0mstart\u001b[0m \u001b[0;34m+=\u001b[0m \u001b[0;36m10\u001b[0m\u001b[0;34m\u001b[0m\u001b[0;34m\u001b[0m\u001b[0m\n\u001b[1;32m     29\u001b[0m   \u001b[0mlast_link\u001b[0m \u001b[0;34m=\u001b[0m \u001b[0mbs\u001b[0m\u001b[0;34m.\u001b[0m\u001b[0mselect\u001b[0m\u001b[0;34m(\u001b[0m\u001b[0;34m'.news_info .info_group a'\u001b[0m\u001b[0;34m)\u001b[0m\u001b[0;34m[\u001b[0m\u001b[0;34m-\u001b[0m\u001b[0;36m1\u001b[0m\u001b[0;34m]\u001b[0m\u001b[0;34m[\u001b[0m\u001b[0;34m'href'\u001b[0m\u001b[0;34m]\u001b[0m\u001b[0;34m\u001b[0m\u001b[0;34m\u001b[0m\u001b[0m\n\u001b[0;32m---> 30\u001b[0;31m \u001b[0mdf\u001b[0m \u001b[0;34m=\u001b[0m \u001b[0mpd\u001b[0m\u001b[0;34m.\u001b[0m\u001b[0mDataFrame\u001b[0m\u001b[0;34m(\u001b[0m\u001b[0mret\u001b[0m\u001b[0;34m,\u001b[0m \u001b[0mcolumns\u001b[0m\u001b[0;34m=\u001b[0m\u001b[0;34m(\u001b[0m\u001b[0;34m'title'\u001b[0m\u001b[0;34m,\u001b[0m \u001b[0;34m'media'\u001b[0m\u001b[0;34m,\u001b[0m \u001b[0;34m'date'\u001b[0m\u001b[0;34m,\u001b[0m \u001b[0;34m'url'\u001b[0m\u001b[0;34m,\u001b[0m \u001b[0;34m'content'\u001b[0m\u001b[0;34m)\u001b[0m\u001b[0;34m)\u001b[0m\u001b[0;34m\u001b[0m\u001b[0;34m\u001b[0m\u001b[0m\n\u001b[0m\u001b[1;32m     31\u001b[0m \u001b[0mdf\u001b[0m\u001b[0;34m\u001b[0m\u001b[0;34m\u001b[0m\u001b[0m\n",
            "\u001b[0;32m/usr/local/lib/python3.7/dist-packages/pandas/core/frame.py\u001b[0m in \u001b[0;36m__init__\u001b[0;34m(self, data, index, columns, dtype, copy)\u001b[0m\n\u001b[1;32m    698\u001b[0m                         \u001b[0mcolumns\u001b[0m\u001b[0;34m,\u001b[0m\u001b[0;34m\u001b[0m\u001b[0;34m\u001b[0m\u001b[0m\n\u001b[1;32m    699\u001b[0m                         \u001b[0mindex\u001b[0m\u001b[0;34m,\u001b[0m  \u001b[0;31m# type: ignore[arg-type]\u001b[0m\u001b[0;34m\u001b[0m\u001b[0;34m\u001b[0m\u001b[0m\n\u001b[0;32m--> 700\u001b[0;31m                         \u001b[0mdtype\u001b[0m\u001b[0;34m,\u001b[0m\u001b[0;34m\u001b[0m\u001b[0;34m\u001b[0m\u001b[0m\n\u001b[0m\u001b[1;32m    701\u001b[0m                     )\n\u001b[1;32m    702\u001b[0m                     mgr = arrays_to_mgr(\n",
            "\u001b[0;32m/usr/local/lib/python3.7/dist-packages/pandas/core/internals/construction.py\u001b[0m in \u001b[0;36mnested_data_to_arrays\u001b[0;34m(data, columns, index, dtype)\u001b[0m\n\u001b[1;32m    481\u001b[0m         \u001b[0mcolumns\u001b[0m \u001b[0;34m=\u001b[0m \u001b[0mensure_index\u001b[0m\u001b[0;34m(\u001b[0m\u001b[0mdata\u001b[0m\u001b[0;34m[\u001b[0m\u001b[0;36m0\u001b[0m\u001b[0;34m]\u001b[0m\u001b[0;34m.\u001b[0m\u001b[0m_fields\u001b[0m\u001b[0;34m)\u001b[0m\u001b[0;34m\u001b[0m\u001b[0;34m\u001b[0m\u001b[0m\n\u001b[1;32m    482\u001b[0m \u001b[0;34m\u001b[0m\u001b[0m\n\u001b[0;32m--> 483\u001b[0;31m     \u001b[0marrays\u001b[0m\u001b[0;34m,\u001b[0m \u001b[0mcolumns\u001b[0m \u001b[0;34m=\u001b[0m \u001b[0mto_arrays\u001b[0m\u001b[0;34m(\u001b[0m\u001b[0mdata\u001b[0m\u001b[0;34m,\u001b[0m \u001b[0mcolumns\u001b[0m\u001b[0;34m,\u001b[0m \u001b[0mdtype\u001b[0m\u001b[0;34m=\u001b[0m\u001b[0mdtype\u001b[0m\u001b[0;34m)\u001b[0m\u001b[0;34m\u001b[0m\u001b[0;34m\u001b[0m\u001b[0m\n\u001b[0m\u001b[1;32m    484\u001b[0m     \u001b[0mcolumns\u001b[0m \u001b[0;34m=\u001b[0m \u001b[0mensure_index\u001b[0m\u001b[0;34m(\u001b[0m\u001b[0mcolumns\u001b[0m\u001b[0;34m)\u001b[0m\u001b[0;34m\u001b[0m\u001b[0;34m\u001b[0m\u001b[0m\n\u001b[1;32m    485\u001b[0m \u001b[0;34m\u001b[0m\u001b[0m\n",
            "\u001b[0;32m/usr/local/lib/python3.7/dist-packages/pandas/core/internals/construction.py\u001b[0m in \u001b[0;36mto_arrays\u001b[0;34m(data, columns, dtype)\u001b[0m\n\u001b[1;32m    805\u001b[0m         \u001b[0marr\u001b[0m \u001b[0;34m=\u001b[0m \u001b[0m_list_to_arrays\u001b[0m\u001b[0;34m(\u001b[0m\u001b[0mdata\u001b[0m\u001b[0;34m)\u001b[0m\u001b[0;34m\u001b[0m\u001b[0;34m\u001b[0m\u001b[0m\n\u001b[1;32m    806\u001b[0m \u001b[0;34m\u001b[0m\u001b[0m\n\u001b[0;32m--> 807\u001b[0;31m     \u001b[0mcontent\u001b[0m\u001b[0;34m,\u001b[0m \u001b[0mcolumns\u001b[0m \u001b[0;34m=\u001b[0m \u001b[0m_finalize_columns_and_data\u001b[0m\u001b[0;34m(\u001b[0m\u001b[0marr\u001b[0m\u001b[0;34m,\u001b[0m \u001b[0mcolumns\u001b[0m\u001b[0;34m,\u001b[0m \u001b[0mdtype\u001b[0m\u001b[0;34m)\u001b[0m\u001b[0;34m\u001b[0m\u001b[0;34m\u001b[0m\u001b[0m\n\u001b[0m\u001b[1;32m    808\u001b[0m     \u001b[0;32mreturn\u001b[0m \u001b[0mcontent\u001b[0m\u001b[0;34m,\u001b[0m \u001b[0mcolumns\u001b[0m\u001b[0;34m\u001b[0m\u001b[0;34m\u001b[0m\u001b[0m\n\u001b[1;32m    809\u001b[0m \u001b[0;34m\u001b[0m\u001b[0m\n",
            "\u001b[0;32m/usr/local/lib/python3.7/dist-packages/pandas/core/internals/construction.py\u001b[0m in \u001b[0;36m_finalize_columns_and_data\u001b[0;34m(content, columns, dtype)\u001b[0m\n\u001b[1;32m    907\u001b[0m     \u001b[0;32mexcept\u001b[0m \u001b[0mAssertionError\u001b[0m \u001b[0;32mas\u001b[0m \u001b[0merr\u001b[0m\u001b[0;34m:\u001b[0m\u001b[0;34m\u001b[0m\u001b[0;34m\u001b[0m\u001b[0m\n\u001b[1;32m    908\u001b[0m         \u001b[0;31m# GH#26429 do not raise user-facing AssertionError\u001b[0m\u001b[0;34m\u001b[0m\u001b[0;34m\u001b[0m\u001b[0;34m\u001b[0m\u001b[0m\n\u001b[0;32m--> 909\u001b[0;31m         \u001b[0;32mraise\u001b[0m \u001b[0mValueError\u001b[0m\u001b[0;34m(\u001b[0m\u001b[0merr\u001b[0m\u001b[0;34m)\u001b[0m \u001b[0;32mfrom\u001b[0m \u001b[0merr\u001b[0m\u001b[0;34m\u001b[0m\u001b[0;34m\u001b[0m\u001b[0m\n\u001b[0m\u001b[1;32m    910\u001b[0m \u001b[0;34m\u001b[0m\u001b[0m\n\u001b[1;32m    911\u001b[0m     \u001b[0;32mif\u001b[0m \u001b[0mlen\u001b[0m\u001b[0;34m(\u001b[0m\u001b[0mcontents\u001b[0m\u001b[0;34m)\u001b[0m \u001b[0;32mand\u001b[0m \u001b[0mcontents\u001b[0m\u001b[0;34m[\u001b[0m\u001b[0;36m0\u001b[0m\u001b[0;34m]\u001b[0m\u001b[0;34m.\u001b[0m\u001b[0mdtype\u001b[0m \u001b[0;34m==\u001b[0m \u001b[0mnp\u001b[0m\u001b[0;34m.\u001b[0m\u001b[0mobject_\u001b[0m\u001b[0;34m:\u001b[0m\u001b[0;34m\u001b[0m\u001b[0;34m\u001b[0m\u001b[0m\n",
            "\u001b[0;31mValueError\u001b[0m: 5 columns passed, passed data had 4 columns"
          ]
        }
      ]
    }
  ]
}