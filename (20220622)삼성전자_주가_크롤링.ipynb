{
  "nbformat": 4,
  "nbformat_minor": 0,
  "metadata": {
    "colab": {
      "name": "(20220622)삼성전자 주가 크롤링.ipynb",
      "provenance": [],
      "collapsed_sections": [],
      "authorship_tag": "ABX9TyMxlFG+EG+k1rK5CfHyMnix",
      "include_colab_link": true
    },
    "kernelspec": {
      "name": "python3",
      "display_name": "Python 3"
    },
    "language_info": {
      "name": "python"
    }
  },
  "cells": [
    {
      "cell_type": "markdown",
      "metadata": {
        "id": "view-in-github",
        "colab_type": "text"
      },
      "source": [
        "<a href=\"https://colab.research.google.com/github/Jeong-So/06.08-07.02_Digital-Finance-Developer-Course-Using-AI/blob/main/(20220622)%EC%82%BC%EC%84%B1%EC%A0%84%EC%9E%90_%EC%A3%BC%EA%B0%80_%ED%81%AC%EB%A1%A4%EB%A7%81.ipynb\" target=\"_parent\"><img src=\"https://colab.research.google.com/assets/colab-badge.svg\" alt=\"Open In Colab\"/></a>"
      ]
    },
    {
      "cell_type": "code",
      "execution_count": null,
      "metadata": {
        "id": "t-F23O_obcS1"
      },
      "outputs": [],
      "source": [
        "# 실습. 네이버 금융(https://finance.naver.com/item/sise.naver?code=005930)에서\n",
        "# 입력 : 종목코드, 조회시작일자, 조회종료일자\n",
        "# 결과 : 날짜, 종목코드, 시가, 고가, 저가, 종가, 거래량\n",
        "# 수집\n",
        "\n",
        "import requests\n",
        "from bs4 import BeautifulSoup\n",
        "\n",
        "URL = 'https://finance.naver.com/item/sise.naver?code=005930'\n",
        "headers = { 'user-agent': 'Mozilla/5.0 (Windows NT 10.0; Win64; x64) AppleWebKit/537.36 (KHTML, like Gecko) Chrome/102.0.5005.115 Safari/537.36'}\n",
        "response = requests.get(URL, headers = headers) \n",
        "soup = BeautifulSoup(response.text, 'html.parser')\n",
        "\n",
        "\n"
      ]
    }
  ]
}